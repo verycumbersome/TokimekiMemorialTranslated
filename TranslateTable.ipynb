{
  "nbformat": 4,
  "nbformat_minor": 0,
  "metadata": {
    "colab": {
      "name": "TranslateTable.ipynb",
      "provenance": [],
      "collapsed_sections": [],
      "machine_shape": "hm",
      "authorship_tag": "ABX9TyPybAhBo6eU89OHVT9YUZlF",
      "include_colab_link": true
    },
    "kernelspec": {
      "name": "python3",
      "display_name": "Python 3"
    },
    "language_info": {
      "name": "python"
    },
    "accelerator": "GPU"
  },
  "cells": [
    {
      "cell_type": "markdown",
      "metadata": {
        "id": "view-in-github",
        "colab_type": "text"
      },
      "source": [
        "<a href=\"https://colab.research.google.com/github/verycumbersome/TokimekiMemorialTranslated/blob/main/TranslateTable.ipynb\" target=\"_parent\"><img src=\"https://colab.research.google.com/assets/colab-badge.svg\" alt=\"Open In Colab\"/></a>"
      ]
    },
    {
      "cell_type": "code",
      "metadata": {
        "colab": {
          "base_uri": "https://localhost:8080/"
        },
        "id": "-X-UCbG_UfDP",
        "outputId": "103f836a-44a3-43d4-9273-46ea9f046fee"
      },
      "source": [
        "!pip install -q git+https://github.com/huggingface/transformers\n",
        "\n",
        "from transformers import pipeline\n",
        "\n",
        "generator = pipeline('text-generation', model='EleutherAI/gpt-neo-2.7B')\n",
        "prompt = \"\"\"\n",
        "Beautifully poetic translations of English prose to Japanese\n",
        "\n",
        "Japanese: わたしは　にほんごがすこししかはなせません。\n",
        "English: Unfortunately, I speak only a little Japanese..\n",
        "\n",
        "Japanese: わたしは　にほんごがすこししか　はなせません。\n",
        "English: I only speak a little Japanese.\n",
        "\n",
        "Japanese: どういたしまして。\n",
        "English: You're welcome.\n",
        "\n",
        "Japanese:\"\"\"\n",
        "\n",
        "postfix = \"\"\"\n",
        "English: \"\"\""
      ],
      "execution_count": 15,
      "outputs": [
        {
          "output_type": "stream",
          "text": [
            "  Installing build dependencies ... \u001b[?25l\u001b[?25hdone\n",
            "  Getting requirements to build wheel ... \u001b[?25l\u001b[?25hdone\n",
            "    Preparing wheel metadata ... \u001b[?25l\u001b[?25hdone\n",
            "  Building wheel for transformers (PEP 517) ... \u001b[?25l\u001b[?25hdone\n"
          ],
          "name": "stdout"
        }
      ]
    },
    {
      "cell_type": "code",
      "metadata": {
        "id": "j1EGu5wcnafT"
      },
      "source": [
        "import json\n",
        "table = json.load(open(\"/content/translation_table.json\", \"r\"))"
      ],
      "execution_count": 6,
      "outputs": []
    },
    {
      "cell_type": "code",
      "metadata": {
        "colab": {
          "base_uri": "https://localhost:8080/",
          "height": 234
        },
        "id": "kIt55l_vTtGk",
        "outputId": "dae5e157-3708-44e5-e954-2b6532cfea61"
      },
      "source": [
        "#seq = \"あなたには、根性があるわ。私と一緒に、甲子園を目指しましょう！\"\n",
        "\n",
        "translation_table = {}\n",
        "for h_key in table:\n",
        "   \n",
        "\n",
        "    print(prompt + table[h_key] + postfix)\n",
        "\n",
        "    break\n",
        "\n",
        "#    seq = generator(\n",
        "#        table[h_key] + \"\\nEnlish: \",\n",
        "#        do_sample=True,\n",
        "#        device=\"cuda\",\n",
        "#        min_length=50,\n",
        "#        max_length=150,\n",
        "#        return_full_text=False,\n",
        "#    )\n",
        "\n",
        "    print(seq)\n",
        "    translation_table[h_key] = seq\n",
        "\n",
        "json.dump(translation_table, \"/content/trans_table.json\")    "
      ],
      "execution_count": 14,
      "outputs": [
        {
          "output_type": "error",
          "ename": "NameError",
          "evalue": "ignored",
          "traceback": [
            "\u001b[0;31m---------------------------------------------------------------------------\u001b[0m",
            "\u001b[0;31mNameError\u001b[0m                                 Traceback (most recent call last)",
            "\u001b[0;32m<ipython-input-14-67236777b673>\u001b[0m in \u001b[0;36m<module>\u001b[0;34m()\u001b[0m\n\u001b[1;32m      5\u001b[0m \u001b[0;34m\u001b[0m\u001b[0m\n\u001b[1;32m      6\u001b[0m \u001b[0;34m\u001b[0m\u001b[0m\n\u001b[0;32m----> 7\u001b[0;31m     \u001b[0mprint\u001b[0m\u001b[0;34m(\u001b[0m\u001b[0mprompt\u001b[0m \u001b[0;34m+\u001b[0m \u001b[0mtable\u001b[0m\u001b[0;34m[\u001b[0m\u001b[0mh_key\u001b[0m\u001b[0;34m]\u001b[0m \u001b[0;34m+\u001b[0m \u001b[0mpostfix\u001b[0m\u001b[0;34m)\u001b[0m\u001b[0;34m\u001b[0m\u001b[0;34m\u001b[0m\u001b[0m\n\u001b[0m\u001b[1;32m      8\u001b[0m \u001b[0;34m\u001b[0m\u001b[0m\n\u001b[1;32m      9\u001b[0m     \u001b[0;32mbreak\u001b[0m\u001b[0;34m\u001b[0m\u001b[0;34m\u001b[0m\u001b[0m\n",
            "\u001b[0;31mNameError\u001b[0m: name 'postfix' is not defined"
          ]
        }
      ]
    },
    {
      "cell_type": "code",
      "metadata": {
        "id": "c-xgF_OpVpvR"
      },
      "source": [
        ""
      ],
      "execution_count": null,
      "outputs": []
    }
  ]
}